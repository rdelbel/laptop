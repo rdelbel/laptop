{
 "metadata": {
  "name": "food"
 },
 "nbformat": 3,
 "nbformat_minor": 0,
 "worksheets": [
  {
   "cells": [
    {
     "cell_type": "code",
     "collapsed": false,
     "input": [
      "from lxml.html import parse\n",
      "from urllib2 import urlopen\n",
      "from pandas.io.parsers import TextParser\n",
      "from pandas import DataFrame, Series\n",
      "import re"
     ],
     "language": "python",
     "metadata": {},
     "outputs": [],
     "prompt_number": 2
    },
    {
     "cell_type": "code",
     "collapsed": false,
     "input": [
      "def parse_url(url):\n",
      "    return parse(urlopen(url)).getroot()"
     ],
     "language": "python",
     "metadata": {},
     "outputs": [],
     "prompt_number": 3
    },
    {
     "cell_type": "code",
     "collapsed": false,
     "input": [
      "page=str(urlopen(\"http://www.nowtoronto.com/fbApps/bestof/winners.cfm?category=158\").read())"
     ],
     "language": "python",
     "metadata": {},
     "outputs": [],
     "prompt_number": 23
    },
    {
     "cell_type": "code",
     "collapsed": false,
     "input": [
      "page.find('Address:')"
     ],
     "language": "python",
     "metadata": {},
     "outputs": [
      {
       "output_type": "pyout",
       "prompt_number": 24,
       "text": [
        "4327"
       ]
      }
     ],
     "prompt_number": 24
    },
    {
     "cell_type": "code",
     "collapsed": false,
     "input": [
      "page"
     ],
     "language": "python",
     "metadata": {},
     "outputs": [
      {
       "output_type": "pyout",
       "prompt_number": 22,
       "text": [
        "'<addinfourl at 55989024 whose fp = <socket._fileobject object at 0x39734d0>>'"
       ]
      }
     ],
     "prompt_number": 22
    },
    {
     "cell_type": "code",
     "collapsed": false,
     "input": [
      "def get_addreses(page):\n",
      "    addresses=[]\n",
      "    field_end=1\n",
      "    while True:\n",
      "        field_start=page.find('Address: ',field_end)+10\n",
      "        if (page.find('<',field_start-1)==field_start-1):\n",
      "            field_start=page.find('>',field_start)+2\n",
      "        field_end=page.find('</li>',field_start)\n",
      "        addresses.append(page[field_start:field_end]+' toronto')\n",
      "        if(page.find('Address: ',field_end)==-1):\n",
      "            break\n",
      "    return addresses\n",
      "        "
     ],
     "language": "python",
     "metadata": {},
     "outputs": [],
     "prompt_number": 84
    },
    {
     "cell_type": "code",
     "collapsed": false,
     "input": [
      "field_start=page.find('Address: ')+9"
     ],
     "language": "python",
     "metadata": {},
     "outputs": [],
     "prompt_number": 26
    },
    {
     "cell_type": "code",
     "collapsed": false,
     "input": [
      "field_start"
     ],
     "language": "python",
     "metadata": {},
     "outputs": [
      {
       "output_type": "pyout",
       "prompt_number": 28,
       "text": [
        "4336"
       ]
      }
     ],
     "prompt_number": 28
    },
    {
     "cell_type": "code",
     "collapsed": false,
     "input": [
      "page.find('<',field_start)"
     ],
     "language": "python",
     "metadata": {},
     "outputs": [
      {
       "output_type": "pyout",
       "prompt_number": 30,
       "text": [
        "4336"
       ]
      }
     ],
     "prompt_number": 30
    },
    {
     "cell_type": "code",
     "collapsed": false,
     "input": [
      "import csv"
     ],
     "language": "python",
     "metadata": {},
     "outputs": [],
     "prompt_number": 45
    },
    {
     "cell_type": "code",
     "collapsed": false,
     "input": [
      "spamWriter = csv.writer(open('addresses.csv', 'wb'), delimiter=' ', quotechar='|', quoting=csv.QUOTE_MINIMAL)"
     ],
     "language": "python",
     "metadata": {},
     "outputs": [],
     "prompt_number": 60
    },
    {
     "cell_type": "code",
     "collapsed": false,
     "input": [
      "ads=get_addreses(page)"
     ],
     "language": "python",
     "metadata": {},
     "outputs": [],
     "prompt_number": 85
    },
    {
     "cell_type": "code",
     "collapsed": false,
     "input": [
      "spamWriter.writerow(ads)"
     ],
     "language": "python",
     "metadata": {},
     "outputs": [],
     "prompt_number": 62
    },
    {
     "cell_type": "code",
     "collapsed": false,
     "input": [
      "ads2=Series(ads)"
     ],
     "language": "python",
     "metadata": {},
     "outputs": [],
     "prompt_number": 86
    },
    {
     "cell_type": "code",
     "collapsed": false,
     "input": [
      "ads2.to_csv('test.csv')"
     ],
     "language": "python",
     "metadata": {},
     "outputs": [],
     "prompt_number": 88
    },
    {
     "cell_type": "code",
     "collapsed": false,
     "input": [
      "ads2"
     ],
     "language": "python",
     "metadata": {},
     "outputs": [
      {
       "output_type": "pyout",
       "prompt_number": 87,
       "text": [
        "0      1149 Dundas West toronto\n",
        "1        370 Queen West toronto\n",
        "2     138 Adelaide East toronto\n",
        "3       1163 Bloor West toronto\n",
        "4           297 Harbord toronto\n",
        "5           388 College toronto\n",
        "6             587 Yonge toronto\n",
        "7         124 Ossington toronto\n",
        "8         110 Ossington toronto\n",
        "9              85 Hanna toronto\n",
        "10       983 Queen East toronto\n",
        "11          297 Harbord toronto\n",
        "12          506 Church  toronto\n",
        "13      923 Dundas West toronto\n",
        "14         120 Lombard  toronto\n",
        "...\n",
        "313    650 1/2 Queen West toronto\n",
        "314         221 Ossington toronto\n",
        "315      390 Roncesvalles toronto\n",
        "316           797 College toronto\n",
        "317        293 Palmerston toronto\n",
        "318        1182 King West toronto\n",
        "319       1456 Queen West toronto\n",
        "320       250 Dundas West toronto\n",
        "321             64 Oxford toronto\n",
        "322        872 Queen West toronto\n",
        "323         110 Ossington toronto\n",
        "324      1454 Dundas West toronto\n",
        "325        563 Bloor West toronto\n",
        "326      1532 Dundas West toronto\n",
        "327      465 - 467 Church toronto\n",
        "Length: 328, dtype: object"
       ]
      }
     ],
     "prompt_number": 87
    },
    {
     "cell_type": "code",
     "collapsed": false,
     "input": [],
     "language": "python",
     "metadata": {},
     "outputs": []
    }
   ],
   "metadata": {}
  }
 ]
}