{
 "metadata": {
  "name": "N00bs guide to making R packages"
 },
 "nbformat": 3,
 "nbformat_minor": 0,
 "worksheets": [
  {
   "cells": [
    {
     "cell_type": "markdown",
     "metadata": {},
     "source": [
      "n00bs guide to making R packages\n",
      "-\n",
      "Thanks to the incedible work done by Rstudio and Hadley Wickham making an R package is relatively painles. Although there are guides to package creation available, including on Hadleys very own blog, as well as more techincal documents and manuals, I found there were none that went though the entire process from start to finish for a total n00b like me.\n",
      "\n",
      "As a guide for total n00bs this will be written unde the following assumptions\n",
      "\n",
      "1. Windows envorionment\n",
      "2. No command line\n",
      "3. Start from scratch\n",
      "4. End with publishing to CRAN.\n",
      "\n",
      "This guide is not meant to be authoratitive nor comprehsnive. It will not go over including compiled code nor user defined objects. \n",
      "\n",
      "We must first create the universe\n",
      "-\n",
      "First download R here\n",
      "http://cran.r-project.org/bin/windows/base/\n",
      "\n",
      "The R IDE(integraded development environment) has many features benefificial to package development and can be downloaded here:\n",
      "http://www.rstudio.com/ide/download/desktop\n",
      "\n",
      "We need to download Rtoos to create R packages\n",
      "http://cran.r-project.org/bin/windows/Rtools/\n",
      "\n",
      "Packages\n",
      "-\n",
      "devtools and roxygen2 are two packages created by Hadley Wickham that greatly simplify package creation, documentation, and management. In Rstudio we can install them by\n",
      "```\n",
      "install.packages('devtools','roxygen2')\n",
      "```\n"
     ]
    },
    {
     "cell_type": "code",
     "collapsed": false,
     "input": [],
     "language": "python",
     "metadata": {},
     "outputs": []
    }
   ],
   "metadata": {}
  }
 ]
}