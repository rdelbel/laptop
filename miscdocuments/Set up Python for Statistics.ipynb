{
 "metadata": {
  "name": "Set up Python for Statistics"
 },
 "nbformat": 3,
 "nbformat_minor": 0,
 "worksheets": [
  {
   "cells": [
    {
     "cell_type": "heading",
     "level": 1,
     "metadata": {},
     "source": [
      "Python"
     ]
    },
    {
     "cell_type": "markdown",
     "metadata": {},
     "source": [
      "Python is a incredibly popular general programming language known for its ease of use and pleasure to code in. In recent years the job description of a classical statistican has expanded past just the design and analysis of experiments to data acquisition and munging as well as small-scale software development. Unfortunately our classical computaitonal tools - R and SAS are not well suited for such tasks. The enhanced shell integration, string methods, data structures and library support in python make it a natural choice for statisticians.\n",
      "\n",
      "The Dual World\n",
      "-\n",
      "\n",
      "There are two current versions of python, 2.7.5 and 3.X. Despite being first released in 2008\n",
      "\n",
      "Because python is so general we will require a stack of packages and addons to do data analysis.\n",
      "\n",
      "The Scipy Stack\n",
      "-\n",
      "The Scipy Stack is \"a collection of open source software for scientific computing in Python, and particularly a specified set of core packages.\"\n",
      "\n",
      "\n",
      "* Python, a general purpose programming language. It is interpreted and dynamically typed and is very suited for interactive work and quick* prototyping, while being powerful enough to write large applications in.\n",
      "* NumPy, the fundamental package for numerical computation. It defines the numerical array and matrix types and basic operations on them.\n",
      "* The SciPy library, a collection of numerical algorithms and domain-specific toolboxes, including signal processing, optimization, statistics and much more.\n",
      "* Matplotlib, a mature and popular plotting package, that provides publication-quality 2D plotting as well as rudimentary 3D plotting\n",
      "* pandas, providing high-performance, easy to use data structures.\n",
      "* SymPy, for symbolic mathematics and computer algebra.\n",
      "* IPython, a rich interactive interface, letting you quickly process data and test ideas. The IPython notebook works in your web browser, allowing you to document your computation in an easily reproducible form.\n",
      "nose, a framework for testing Python code.\n",
      "\n",
      "We can download the spicy stack as follows:\n",
      "```\n",
      "$sudo apt-get install python-numpy python-scipy python-matplotlib ipython ipython-notebook python-pandas python-sympy python-nose\n",
      "```\n",
      "pip\n",
      "-\n",
      "\n",
      "Despite the general ease of use of python, it does not ship with a built in package manager. There are two main python package managers: pip and easy_install. [This post on stack overflow]( http://stackoverflow.com/questions/3220404/why-use-pip-over-easy-install) makes a compelling argument for pip. Along your python journey you may come across setuptools. Installing pip will also install setuptoops\n",
      "\n",
      "\n",
      "We install pip using:\n",
      "```\n",
      "$ sudo apt-get install python-pip\n",
      "```\n",
      "\n",
      "Cool story bro, but I need coxph\n",
      "-\n",
      "\n",
      "As the defacto standard in statisitcal computing, there are many statistical methods implemented in R that have no direct substitutes in python. In some cases even if a replacement may be found it may be safter to use an extensively tested R function.\n",
      "\n",
      "Thankfully RPy2 makes this process relatively painless, and ipython makes it even easier.\n",
      "```\n",
      "$ sudo pip install rpy2\n",
      "```\n",
      "Before \n",
      "```\n",
      "%load_ext rmagic\n",
      "```\n",
      "IPython\n",
      "-\n",
      "The ipython shell is a fundamental part of the scipy stack and often used even outside of the scientifc computing community. As we will see later there are three main ways to use the ipython: the standard console, qt console and notebook. The fomer two are suited for software development while the third is for creating computible documents and reports and suited for day to day statistical work\n",
      "\n",
      "Editor War\n",
      "-\n",
      "When not using the notebook (and possibly even when using it) a text editor is also needed. There are IDEs (integrated develeopment environment -- like Rstudio) that have support for Ipython however most people simply use a command line text editor and paste into Ipython. The main benefits of using a command line text editor are:\n",
      "\n",
      "* After a steep learning curve are faster to use than an IDE\n",
      "* Available on all major operating systems\n",
      "* Can use with all programing languages\n",
      "* With plugin support can be given IDE-like features\n",
      "* Can use with all markup languages\n",
      "* Can use with normal documents\n",
      "* Can use via ssh and thus be used used on an andriod tablet tunneled into a supercomputer\n",
      "\n",
      "There are two main terminal text editors, vim and emacs. Vim is a moded editor while emacs is not. Emacs may be better suited for working with ipython notebooks however for fear of emacs pinky I use vim and will describe how to set up vim as a python IDE and combine it with ipython. \n",
      "\n",
      "For those who do not want use an IDE but also do not want to spend the time to learn vim or emacs there are graphical text editors that also work with many programming languages. In particular check out TextMate for OSX and notepad++ for windows.  \n",
      "\n",
      "Lets do Statistics\n",
      "-\n",
      "The majority of the work is wranglign our data"
     ]
    },
    {
     "cell_type": "code",
     "collapsed": false,
     "input": [],
     "language": "python",
     "metadata": {},
     "outputs": []
    },
    {
     "cell_type": "code",
     "collapsed": false,
     "input": [],
     "language": "python",
     "metadata": {},
     "outputs": []
    }
   ],
   "metadata": {}
  }
 ]
}